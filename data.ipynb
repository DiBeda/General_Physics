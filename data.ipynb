{
 "cells": [
  {
   "cell_type": "code",
   "execution_count": 20,
   "metadata": {
    "collapsed": true
   },
   "outputs": [],
   "source": [
    "import numpy as np\n",
    "import pandas as pd\n",
    "from scipy.stats import norm\n",
    "import matplotlib.pyplot as plt\n",
    "%matplotlib inline\n",
    "%matplotlib inline\n",
    "import math"
   ]
  },
  {
   "cell_type": "code",
   "execution_count": 68,
   "metadata": {
    "collapsed": false
   },
   "outputs": [
    {
     "data": {
      "text/plain": [
       "<matplotlib.text.Text at 0x11d35ce90>"
      ]
     },
     "execution_count": 68,
     "metadata": {},
     "output_type": "execute_result"
    },
    {
     "data": {
      "image/png": "[encoded data removed]",
      "text/plain": [
       "<matplotlib.figure.Figure at 0x11ca8db10>"
      ]
     },
     "metadata": {},
     "output_type": "display_data"
    }
   ],
   "source": [
    "for i in range(1000):\n",
    "    local_sample = norm.rvs(475, 20, size=24)\n",
    "\n",
    "## строим гистограмму\n",
    "plt.hist(local_sample, bins=10, normed=True)\n",
    "\n",
    "x = np.linspace(420, 550, 1000)\n",
    "pdf = scipy.stats.norm.pdf(x, loc = 475, scale = 20)\n",
    "plt.plot(x, pdf, label='theoretical pdf', color = 'red', alpha=1) ## alpha - переменная, отвечающая за цвет линии\n",
    "plt.ylabel('$T$')\n",
    "plt.xlabel('$f(x) = Norm(475, 22)$')\n",
    "\n"
   ]
  },
  {
   "cell_type": "code",
   "execution_count": 54,
   "metadata": {
    "collapsed": false
   },
   "outputs": [
    {
     "name": "stdout",
     "output_type": "stream",
     "text": [
      "[ 468.13562756  471.37294083  474.53781681  490.99178146  463.81194175\n",
      "  453.68321816  448.76735884  500.00815259  451.99611372  498.29015808\n",
      "  546.38058826  489.36521725  462.38695112  473.99573599  476.6349169\n",
      "  489.31788047  457.82447906  486.45343432  475.86144923  467.31917774\n",
      "  474.39177422  497.99435546  435.25107994  477.56420708]\n"
     ]
    }
   ],
   "source": [
    "print local_sample"
   ]
  },
  {
   "cell_type": "code",
   "execution_count": 55,
   "metadata": {
    "collapsed": true
   },
   "outputs": [],
   "source": [
    "eps = 8.85 * 10 ** (-12)"
   ]
  },
  {
   "cell_type": "code",
   "execution_count": 60,
   "metadata": {
    "collapsed": false
   },
   "outputs": [
    {
     "name": "stdout",
     "output_type": "stream",
     "text": [
      "7.63137794739e+13 468.13562756\n",
      "7.68415145929e+13 471.372940832\n",
      "7.73574412463e+13 474.537816813\n",
      "8.00397071438e+13 490.991781455\n",
      "7.56089478276e+13 463.811941754\n",
      "7.39577998845e+13 453.683218163\n",
      "7.31564342502e+13 448.767358842\n",
      "8.1509523407e+13 500.008152594\n",
      "7.36827742099e+13 451.996113715\n",
      "8.12294621457e+13 498.290158082\n",
      "8.90689904083e+13 546.380588255\n",
      "7.97745505209e+13 489.36521725\n",
      "7.53766510005e+13 462.386951122\n",
      "7.72690731885e+13 473.995735992\n",
      "7.76993029293e+13 476.634916899\n",
      "7.97668338501e+13 489.317880471\n",
      "7.46328932818e+13 457.824479065\n",
      "7.92998821824e+13 486.453434318\n",
      "7.75732150232e+13 475.861449231\n",
      "7.61806847728e+13 467.319177741\n",
      "7.733363391e+13 474.391774219\n",
      "8.11812414707e+13 497.994355462\n",
      "7.09530592744e+13 435.251079945\n",
      "7.78507924581e+13 477.564207076\n"
     ]
    }
   ],
   "source": [
    "arr = np.array(local_sample)\n",
    "a =  arr/(eps * math.log(2))\n",
    "for i, tmp in zip(a, local_sample):\n",
    "    print i, tmp"
   ]
  },
  {
   "cell_type": "code",
   "execution_count": 63,
   "metadata": {
    "collapsed": false
   },
   "outputs": [
    {
     "data": {
      "text/plain": [
       "77921833846884.14"
      ]
     },
     "execution_count": 63,
     "metadata": {},
     "output_type": "execute_result"
    }
   ],
   "source": [
    "478 / (eps * math.log(2))"
   ]
  },
  {
   "cell_type": "code",
   "execution_count": null,
   "metadata": {
    "collapsed": true
   },
   "outputs": [],
   "source": []
  }
 ],
 "metadata": {
  "anaconda-cloud": {},
  "kernelspec": {
   "display_name": "Python [conda root]",
   "language": "python",
   "name": "conda-root-py"
  },
  "language_info": {
   "codemirror_mode": {
    "name": "ipython",
    "version": 2
   },
   "file_extension": ".py",
   "mimetype": "text/x-python",
   "name": "python",
   "nbconvert_exporter": "python",
   "pygments_lexer": "ipython2",
   "version": "2.7.12"
  }
 },
 "nbformat": 4,
 "nbformat_minor": 1
}
