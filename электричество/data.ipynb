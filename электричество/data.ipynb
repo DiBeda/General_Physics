{
 "cells": [
  {
   "cell_type": "code",
   "execution_count": 1,
   "metadata": {
    "collapsed": true,
    "run_control": {
     "frozen": false,
     "read_only": false
    }
   },
   "outputs": [],
   "source": [
    "import numpy as np\n",
    "import pandas as pd\n",
    "from scipy.stats import norm\n",
    "import scipy\n",
    "import matplotlib.pyplot as plt\n",
    "%matplotlib inline\n",
    "%matplotlib inline\n",
    "import math"
   ]
  },
  {
   "cell_type": "code",
   "execution_count": 2,
   "metadata": {
    "run_control": {
     "frozen": false,
     "read_only": false
    }
   },
   "outputs": [
    {
     "data": {
      "text/plain": [
       "<matplotlib.text.Text at 0x109896c90>"
      ]
     },
     "execution_count": 2,
     "metadata": {},
     "output_type": "execute_result"
    },
    {
     "data": {
      "image/png": "[encoded data removed]",
      "text/plain": [
       "<matplotlib.figure.Figure at 0x109883490>"
      ]
     },
     "metadata": {},
     "output_type": "display_data"
    }
   ],
   "source": [
    "### experiments are interesting ###\n",
    "### but statistics is much better ###\n",
    "\n",
    "for i in range(1000):\n",
    "    local_sample = norm.rvs(475, 20, size=24)\n",
    "\n",
    "## make hist\n",
    "plt.figure(figsize=(12,8))\n",
    "plt.hist(local_sample, bins=10, normed=True)\n",
    "\n",
    "x = np.linspace(420, 550, 1000)\n",
    "pdf = scipy.stats.norm.pdf(x, loc = 475, scale = 20)\n",
    "plt.plot(x, pdf, label='theoretical pdf', color = 'red', alpha=1) ## alpha - transparency param\n",
    "plt.ylabel('$T$')\n",
    "plt.xlabel('$f(x) = Norm(475, 22)$')\n",
    "\n"
   ]
  },
  {
   "cell_type": "code",
   "execution_count": 3,
   "metadata": {
    "run_control": {
     "frozen": false,
     "read_only": false
    }
   },
   "outputs": [
    {
     "name": "stdout",
     "output_type": "stream",
     "text": [
      "[ 492.42940932  439.16856225  456.42373654  468.43791006  475.31917803\n",
      "  463.09672935  466.70541982  436.72273951  494.59008709  462.78612238\n",
      "  444.70511517  498.22187391  452.85762428  447.20882598  502.59095569\n",
      "  505.86602372  457.71979242  469.54633331  498.41827533  468.30157654\n",
      "  450.46881894  488.62887296  466.59020923  484.33815265]\n"
     ]
    }
   ],
   "source": [
    "print local_sample"
   ]
  },
  {
   "cell_type": "code",
   "execution_count": 4,
   "metadata": {
    "collapsed": true,
    "run_control": {
     "frozen": false,
     "read_only": false
    }
   },
   "outputs": [],
   "source": [
    "eps = 8.85 * 10 ** (-12)"
   ]
  },
  {
   "cell_type": "code",
   "execution_count": 5,
   "metadata": {
    "run_control": {
     "frozen": false,
     "read_only": false
    }
   },
   "outputs": [
    {
     "name": "stdout",
     "output_type": "stream",
     "text": [
      "8.02740640475e+13 492.429409324\n",
      "7.15916730924e+13 439.168562247\n",
      "7.44045492933e+13 456.423736537\n",
      "7.63630564757e+13 468.437910061\n",
      "7.74848159306e+13 475.319178032\n",
      "7.54923564841e+13 463.096729349\n",
      "7.60806321721e+13 466.705419815\n",
      "7.11929639015e+13 436.722739506\n",
      "8.06262899343e+13 494.590087091\n",
      "7.54417224579e+13 462.786122382\n",
      "7.24942219558e+13 444.705115167\n",
      "8.12183307066e+13 498.221873911\n",
      "7.38232145517e+13 452.857624284\n",
      "7.29023678513e+13 447.208825981\n",
      "8.19305626401e+13 502.590955687\n",
      "8.24644524041e+13 505.866023721\n",
      "7.46158276433e+13 457.719792421\n",
      "7.65437476307e+13 469.546333308\n",
      "8.12503473561e+13 498.418275326\n",
      "7.63408318766e+13 468.301576535\n",
      "7.34338001317e+13 450.468818944\n",
      "7.96545143336e+13 488.628872958\n",
      "7.60618509591e+13 466.590209233\n",
      "7.89550566038e+13 484.338152652\n"
     ]
    }
   ],
   "source": [
    "arr = np.array(local_sample)\n",
    "a =  arr/(eps * math.log(2))\n",
    "for i, tmp in zip(a, local_sample):\n",
    "    print i, tmp"
   ]
  },
  {
   "cell_type": "code",
   "execution_count": 6,
   "metadata": {
    "run_control": {
     "frozen": false,
     "read_only": false
    }
   },
   "outputs": [
    {
     "data": {
      "text/plain": [
       "77921833846884.14"
      ]
     },
     "execution_count": 6,
     "metadata": {},
     "output_type": "execute_result"
    }
   ],
   "source": [
    "478 / (eps * math.log(2))"
   ]
  }
 ],
 "metadata": {
  "anaconda-cloud": {},
  "kernelspec": {
   "display_name": "Python 2",
   "language": "python",
   "name": "python2"
  },
  "language_info": {
   "codemirror_mode": {
    "name": "ipython",
    "version": 2
   },
   "file_extension": ".py",
   "mimetype": "text/x-python",
   "name": "python",
   "nbconvert_exporter": "python",
   "pygments_lexer": "ipython2",
   "version": "2.7.13"
  }
 },
 "nbformat": 4,
 "nbformat_minor": 1
}
